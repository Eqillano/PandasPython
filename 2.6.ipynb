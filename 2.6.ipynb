{
 "cells": [
  {
   "cell_type": "code",
   "execution_count": 2,
   "metadata": {},
   "outputs": [],
   "source": [
    "import pandas as pd\n",
    "\n",
    "\n",
    "df = pd.read_json('json/small_data_contracts.json')\n",
    "df2 = pd.read_json('json/small_data_persons.json')"
   ]
  },
  {
   "cell_type": "markdown",
   "metadata": {},
   "source": [
    "#### Задание 2.6 найти возрастную группу людей, которая имеет наиболее частый контакт с другими людьми. Так же, как и в задании 2.1 контактом считается контакт длительностью 5 и более."
   ]
  },
  {
   "cell_type": "markdown",
   "metadata": {},
   "source": [
    "соединяем две талблицы используя inner join"
   ]
  },
  {
   "cell_type": "code",
   "execution_count": 27,
   "metadata": {},
   "outputs": [],
   "source": [
    "dfx = pd.merge(df,df2,left_on='Member1_ID',right_on='ID',how='inner')\n",
    "dfx.drop(['Member2_ID'],axis=1,inplace=True)\n",
    "dfx.drop_duplicates(keep=False,inplace=True)\n"
   ]
  },
  {
   "cell_type": "markdown",
   "metadata": {},
   "source": [
    "меняем тип данных что-бы можно было проводить с ними вычисления"
   ]
  },
  {
   "cell_type": "code",
   "execution_count": 4,
   "metadata": {},
   "outputs": [],
   "source": [
    "dfx['From'] = pd.to_datetime(df['From'])\n",
    "dfx['To'] = pd.to_datetime(df['To'])"
   ]
  },
  {
   "cell_type": "markdown",
   "metadata": {},
   "source": [
    "создаём колонку длительность контакта и условие чтобы контакт был больше пяти минут"
   ]
  },
  {
   "cell_type": "code",
   "execution_count": 6,
   "metadata": {},
   "outputs": [],
   "source": [
    "dfx['duration'] = dfx['To'] - dfx['From']\n",
    "dfx = dfx[dfx['duration'] >= '00:05:00']\n"
   ]
  },
  {
   "cell_type": "markdown",
   "metadata": {},
   "source": [
    "создаём группы людей"
   ]
  },
  {
   "cell_type": "code",
   "execution_count": 13,
   "metadata": {},
   "outputs": [],
   "source": [
    "dfx.loc[(dfx.Age > 18) ,  'Возрастная Группа'] = '18-30'\n",
    "dfx.loc[(dfx.Age > 30),  'Возрастная Группа'] = '30-50'\n",
    "dfx.loc[(dfx.Age > 50),  'Возрастная Группа'] = '50-70'\n",
    "dfx.loc[(dfx.Age > 70),  'Возрастная Группа'] = '> 70'"
   ]
  },
  {
   "cell_type": "markdown",
   "metadata": {},
   "source": [
    "группируем по возрастной группе и считаем общее кол-во контактов в группе,сортируем в убывающем порядке\n"
   ]
  },
  {
   "cell_type": "code",
   "execution_count": 14,
   "metadata": {},
   "outputs": [],
   "source": [
    "dfx = dfx.groupby(['Возрастная Группа'])['Member1_ID'].count().to_frame('кол-во контактов').reset_index()\\\n",
    ".sort_values(['кол-во контактов'],ascending=[False])\n"
   ]
  },
  {
   "cell_type": "code",
   "execution_count": 26,
   "metadata": {},
   "outputs": [
    {
     "data": {
      "image/png": "[encoded data removed]",
      "text/plain": [
       "<Figure size 432x288 with 1 Axes>"
      ]
     },
     "metadata": {
      "needs_background": "light"
     },
     "output_type": "display_data"
    }
   ],
   "source": [
    "import matplotlib.pyplot as plt\n",
    "\n",
    "plt.bar(dfx['Возрастная Группа'],dfx['кол-во контактов'])\n",
    "\n",
    "plt.ylabel('кол-во контактов')\n",
    "plt.xlabel('возрастная группа')\n",
    "plt.show()"
   ]
  },
  {
   "cell_type": "code",
   "execution_count": null,
   "metadata": {},
   "outputs": [],
   "source": []
  }
 ],
 "metadata": {
  "kernelspec": {
   "display_name": "Python 3",
   "language": "python",
   "name": "python3"
  },
  "language_info": {
   "codemirror_mode": {
    "name": "ipython",
    "version": 3
   },
   "file_extension": ".py",
   "mimetype": "text/x-python",
   "name": "python",
   "nbconvert_exporter": "python",
   "pygments_lexer": "ipython3",
   "version": "3.7.6"
  }
 },
 "nbformat": 4,
 "nbformat_minor": 4
}
