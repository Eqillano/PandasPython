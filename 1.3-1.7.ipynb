{
 "cells": [
  {
   "cell_type": "code",
   "execution_count": 1,
   "metadata": {},
   "outputs": [],
   "source": [
    "import pandas as pd\n",
    "\n",
    "dfbig = pd.read_json('json/big_data_persons.json')\n",
    "dfsmall = pd.read_json('json/small_data_persons.json')\n"
   ]
  },
  {
   "cell_type": "markdown",
   "metadata": {},
   "source": [
    "#### Задание 1.3 \n"
   ]
  },
  {
   "cell_type": "code",
   "execution_count": 4,
   "metadata": {},
   "outputs": [],
   "source": [
    "dfbig.to_excel('excel/big_data_persons.xlsx')\n",
    "dfsmall.to_excel('excel/small_data_persons.xlsx')\n"
   ]
  },
  {
   "cell_type": "markdown",
   "metadata": {},
   "source": [
    "#### Задание 1.4\n"
   ]
  },
  {
   "cell_type": "code",
   "execution_count": 2,
   "metadata": {},
   "outputs": [
    {
     "name": "stdout",
     "output_type": "stream",
     "text": [
      "         ID  Age      Last    First\n",
      "117  591886   24    Авдеев   Корней\n",
      "18   174569   54    Авдеев   Корней\n",
      "76   392316   20  Агафонов    Остап\n",
      "48   278400   16   Аксёнов    Натан\n",
      "51   293922   29  Алексеев  Тимофей\n"
     ]
    }
   ],
   "source": [
    "dfsmall[['Last','First']] = dfsmall.Name.str.split(expand=True)\n",
    "dfsmall.drop(['Name'],axis=1,inplace=True)\n",
    "dfsmall.sort_values('Last',inplace=True)\n",
    "print(dfsmall.head())"
   ]
  },
  {
   "cell_type": "markdown",
   "metadata": {},
   "source": [
    "#### второй датасет,делим колонку name на два столбца , убираем колонку name и сортируем по имени"
   ]
  },
  {
   "cell_type": "code",
   "execution_count": 3,
   "metadata": {},
   "outputs": [
    {
     "name": "stdout",
     "output_type": "stream",
     "text": [
      "          ID  Age     Last     First\n",
      "147   720141   56  Лихачёв  Аввакуум\n",
      "59    298835   76  Лихачёв  Аввакуум\n",
      "93    469154   20  Суворов    Август\n",
      "5      27164   31  Суворов    Август\n",
      "742  3739928   14   Юматов     Авдей\n"
     ]
    }
   ],
   "source": [
    "dfbig[['Last','First']] = dfbig.Name.str.split(expand=True)\n",
    "dfbig.drop(['Name'],axis=1,inplace=True)\n",
    "dfbig.sort_values('First',inplace=True)\n",
    "print(dfbig.head())"
   ]
  },
  {
   "cell_type": "markdown",
   "metadata": {},
   "source": [
    "#### Задание 1.5 : Находим людей в small_data которых нету в big_data и выводим их в excel"
   ]
  },
  {
   "cell_type": "code",
   "execution_count": 4,
   "metadata": {},
   "outputs": [
    {
     "name": "stdout",
     "output_type": "stream",
     "text": [
      "       ID  Age      Last    First\n",
      "0  591886   24    Авдеев   Корней\n",
      "1  174569   54    Авдеев   Корней\n",
      "2  392316   20  Агафонов    Остап\n",
      "3  278400   16   Аксёнов    Натан\n",
      "4  293922   29  Алексеев  Тимофей\n"
     ]
    }
   ],
   "source": [
    "new_df = pd.merge(dfsmall, dfbig, on=dfsmall.columns.to_list(),\n",
    "how='outer', indicator=True).query(\"_merge == 'left_only'\").drop('_merge', 1)\n",
    "new_df.to_excel('excel/people_not_in_big.xlsx')\n",
    "print(new_df.head())"
   ]
  },
  {
   "cell_type": "markdown",
   "metadata": {},
   "source": [
    "#### Задание 1.6 : находим дубликаты по фамилии у которых разница в возрасте 10 лет и сохраняем в excel "
   ]
  },
  {
   "cell_type": "markdown",
   "metadata": {},
   "source": [
    "выводим все дубликаты"
   ]
  },
  {
   "cell_type": "code",
   "execution_count": 5,
   "metadata": {},
   "outputs": [],
   "source": [
    "dfnew = dfsmall[dfsmall['Last'].duplicated(keep=False)]\n"
   ]
  },
  {
   "cell_type": "markdown",
   "metadata": {},
   "source": [
    "создаём колонку 'diff' что-бы посчитать разницу в возрасте между людьми"
   ]
  },
  {
   "cell_type": "code",
   "execution_count": 6,
   "metadata": {},
   "outputs": [
    {
     "name": "stderr",
     "output_type": "stream",
     "text": [
      "C:\\ProgramData\\Anaconda3\\lib\\site-packages\\ipykernel_launcher.py:1: SettingWithCopyWarning: \n",
      "A value is trying to be set on a copy of a slice from a DataFrame.\n",
      "Try using .loc[row_indexer,col_indexer] = value instead\n",
      "\n",
      "See the caveats in the documentation: https://pandas.pydata.org/pandas-docs/stable/user_guide/indexing.html#returning-a-view-versus-a-copy\n",
      "  \"\"\"Entry point for launching an IPython kernel.\n"
     ]
    }
   ],
   "source": [
    "dfnew['diff'] = dfnew['Age'] - dfnew['Age'].shift()"
   ]
  },
  {
   "cell_type": "markdown",
   "metadata": {},
   "source": [
    "фильтруем только по тем где разница 10"
   ]
  },
  {
   "cell_type": "code",
   "execution_count": 7,
   "metadata": {},
   "outputs": [
    {
     "name": "stdout",
     "output_type": "stream",
     "text": [
      "        ID  Age      Last   First  diff\n",
      "92  475930   20  Николаев  Эдуард -10.0\n"
     ]
    }
   ],
   "source": [
    "dfnew1 = dfnew[(dfnew['diff'] == 10) | (dfnew['diff'] == -10)]\n",
    "print(dfnew1)"
   ]
  },
  {
   "cell_type": "markdown",
   "metadata": {},
   "source": [
    "Единственное совпадение на фамилии Николаев"
   ]
  },
  {
   "cell_type": "code",
   "execution_count": 8,
   "metadata": {},
   "outputs": [
    {
     "name": "stdout",
     "output_type": "stream",
     "text": [
      "         ID  Age      Last   First  diff\n",
      "32    24628   31  Николаев  Эдуард   1.0\n",
      "21   196252   14  Николаев  Матвей -17.0\n",
      "120  611382   30  Николаев  Матвей  16.0\n",
      "92   475930   20  Николаев  Эдуард -10.0\n"
     ]
    }
   ],
   "source": [
    "dfresult = dfnew[dfnew['Last'] == 'Николаев']\n",
    "print(dfresult)"
   ]
  },
  {
   "cell_type": "code",
   "execution_count": 9,
   "metadata": {},
   "outputs": [],
   "source": [
    "dfresult.to_excel('excel/zadanie1.6.xlsx')"
   ]
  },
  {
   "cell_type": "markdown",
   "metadata": {},
   "source": [
    "#### Задание 1.7 находим слова где есть английские знаки и сохраняем их в excel "
   ]
  },
  {
   "cell_type": "code",
   "execution_count": 20,
   "metadata": {},
   "outputs": [
    {
     "name": "stdout",
     "output_type": "stream",
     "text": [
      "         ID  Age      Last      First\n",
      "119  604143   40   Алексей  Тeрeщенко\n",
      "126  637709   77   Евгений    Дaдонов\n",
      "123  624642   37  Кoшечкин    Вaсилий\n"
     ]
    }
   ],
   "source": [
    "dfenglish = dfsmall[dfsmall['First'].str.contains('[A-Za-z]') |\n",
    "dfsmall['Last'].str.contains('[A-Za-z]')]\n",
    "print(dfenglish)"
   ]
  },
  {
   "cell_type": "code",
   "execution_count": 21,
   "metadata": {},
   "outputs": [],
   "source": [
    "dfenglish.to_excel('excel/contains_english_letters.xlsx')"
   ]
  }
 ],
 "metadata": {
  "kernelspec": {
   "display_name": "Python 3",
   "language": "python",
   "name": "python3"
  },
  "language_info": {
   "codemirror_mode": {
    "name": "ipython",
    "version": 3
   },
   "file_extension": ".py",
   "mimetype": "text/x-python",
   "name": "python",
   "nbconvert_exporter": "python",
   "pygments_lexer": "ipython3",
   "version": "3.7.6"
  }
 },
 "nbformat": 4,
 "nbformat_minor": 4
}
