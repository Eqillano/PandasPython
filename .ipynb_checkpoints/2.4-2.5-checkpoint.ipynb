{
 "cells": [
  {
   "cell_type": "code",
   "execution_count": 11,
   "metadata": {},
   "outputs": [],
   "source": [
    "import pandas as pd\n",
    "\n",
    "df = pd.read_json('json/small_data_contracts.json')\n",
    "df2 = pd.read_json('json/small_data_persons.json')"
   ]
  },
  {
   "cell_type": "markdown",
   "metadata": {},
   "source": [
    "#### Задание 2.4 "
   ]
  },
  {
   "cell_type": "markdown",
   "metadata": {},
   "source": [
    "меняем тип данных что-бы можно было проводить с ними вычисления"
   ]
  },
  {
   "cell_type": "code",
   "execution_count": 2,
   "metadata": {},
   "outputs": [],
   "source": [
    "df['From'] = pd.to_datetime(df['From'])\n",
    "df['To'] = pd.to_datetime(df['To'])\n"
   ]
  },
  {
   "cell_type": "markdown",
   "metadata": {},
   "source": [
    "cоздаём столбец что-бы просчитать разницу во времени, затем фильтруем по длительности от 5 минут\n"
   ]
  },
  {
   "cell_type": "code",
   "execution_count": 3,
   "metadata": {},
   "outputs": [],
   "source": [
    "df['duration'] = df['To'] - df['From']\n",
    "df1 = df[df['duration'] >= '00:05:00']"
   ]
  },
  {
   "cell_type": "markdown",
   "metadata": {},
   "source": [
    "группируем по member_id и считаем кол-во контактов,сортируем в убывающем порядке"
   ]
  },
  {
   "cell_type": "code",
   "execution_count": 4,
   "metadata": {},
   "outputs": [
    {
     "name": "stdout",
     "output_type": "stream",
     "text": [
      "    Member1_ID  count\n",
      "93      479697     15\n",
      "35      220123     14\n",
      "46      270838     14\n",
      "72      374091     14\n",
      "58      324457     12\n"
     ]
    }
   ],
   "source": [
    "\n",
    "df1 = df1.groupby(['Member1_ID']).size().to_frame('count').reset_index()\\\n",
    ".sort_values(['count'], ascending=[False])\n",
    "print(df1.head())"
   ]
  },
  {
   "cell_type": "markdown",
   "metadata": {},
   "source": [
    "соединяем две талблицы используя inner join и убирваем не нужные столбцы"
   ]
  },
  {
   "cell_type": "code",
   "execution_count": 9,
   "metadata": {},
   "outputs": [
    {
     "data": {
      "text/html": [
       "<div>\n",
       "<style scoped>\n",
       "    .dataframe tbody tr th:only-of-type {\n",
       "        vertical-align: middle;\n",
       "    }\n",
       "\n",
       "    .dataframe tbody tr th {\n",
       "        vertical-align: top;\n",
       "    }\n",
       "\n",
       "    .dataframe thead th {\n",
       "        text-align: right;\n",
       "    }\n",
       "</style>\n",
       "<table border=\"1\" class=\"dataframe\">\n",
       "  <thead>\n",
       "    <tr style=\"text-align: right;\">\n",
       "      <th></th>\n",
       "      <th>ID</th>\n",
       "      <th>Name</th>\n",
       "      <th>Age</th>\n",
       "      <th>count</th>\n",
       "    </tr>\n",
       "  </thead>\n",
       "  <tbody>\n",
       "    <tr>\n",
       "      <th>0</th>\n",
       "      <td>479697</td>\n",
       "      <td>Суворов Август</td>\n",
       "      <td>46</td>\n",
       "      <td>15</td>\n",
       "    </tr>\n",
       "    <tr>\n",
       "      <th>1</th>\n",
       "      <td>220123</td>\n",
       "      <td>Марков Людвиг</td>\n",
       "      <td>20</td>\n",
       "      <td>14</td>\n",
       "    </tr>\n",
       "    <tr>\n",
       "      <th>2</th>\n",
       "      <td>270838</td>\n",
       "      <td>Овечкин Александр</td>\n",
       "      <td>35</td>\n",
       "      <td>14</td>\n",
       "    </tr>\n",
       "    <tr>\n",
       "      <th>3</th>\n",
       "      <td>374091</td>\n",
       "      <td>Назаров Игорь</td>\n",
       "      <td>85</td>\n",
       "      <td>14</td>\n",
       "    </tr>\n",
       "    <tr>\n",
       "      <th>4</th>\n",
       "      <td>324457</td>\n",
       "      <td>Малкин Евгений</td>\n",
       "      <td>33</td>\n",
       "      <td>12</td>\n",
       "    </tr>\n",
       "    <tr>\n",
       "      <th>...</th>\n",
       "      <td>...</td>\n",
       "      <td>...</td>\n",
       "      <td>...</td>\n",
       "      <td>...</td>\n",
       "    </tr>\n",
       "    <tr>\n",
       "      <th>123</th>\n",
       "      <td>266954</td>\n",
       "      <td>Архипов Алан</td>\n",
       "      <td>22</td>\n",
       "      <td>3</td>\n",
       "    </tr>\n",
       "    <tr>\n",
       "      <th>124</th>\n",
       "      <td>79173</td>\n",
       "      <td>Воробьёв Аким</td>\n",
       "      <td>80</td>\n",
       "      <td>3</td>\n",
       "    </tr>\n",
       "    <tr>\n",
       "      <th>125</th>\n",
       "      <td>12657</td>\n",
       "      <td>Доронин Евгений</td>\n",
       "      <td>84</td>\n",
       "      <td>3</td>\n",
       "    </tr>\n",
       "    <tr>\n",
       "      <th>126</th>\n",
       "      <td>150154</td>\n",
       "      <td>Ширяев Андрей</td>\n",
       "      <td>28</td>\n",
       "      <td>2</td>\n",
       "    </tr>\n",
       "    <tr>\n",
       "      <th>127</th>\n",
       "      <td>1899</td>\n",
       "      <td>Григорьев Гордий</td>\n",
       "      <td>44</td>\n",
       "      <td>1</td>\n",
       "    </tr>\n",
       "  </tbody>\n",
       "</table>\n",
       "<p>128 rows × 4 columns</p>\n",
       "</div>"
      ],
      "text/plain": [
       "         ID               Name  Age  count\n",
       "0    479697     Суворов Август   46     15\n",
       "1    220123      Марков Людвиг   20     14\n",
       "2    270838  Овечкин Александр   35     14\n",
       "3    374091      Назаров Игорь   85     14\n",
       "4    324457     Малкин Евгений   33     12\n",
       "..      ...                ...  ...    ...\n",
       "123  266954       Архипов Алан   22      3\n",
       "124   79173      Воробьёв Аким   80      3\n",
       "125   12657    Доронин Евгений   84      3\n",
       "126  150154      Ширяев Андрей   28      2\n",
       "127    1899   Григорьев Гордий   44      1\n",
       "\n",
       "[128 rows x 4 columns]"
      ]
     },
     "execution_count": 9,
     "metadata": {},
     "output_type": "execute_result"
    }
   ],
   "source": [
    "new_df = pd.merge(df1,df2,left_on='Member1_ID',right_on='ID',how='inner')\n",
    "new_df = new_df[['ID','Name','Age','count']]\n",
    "(new_df)"
   ]
  },
  {
   "cell_type": "markdown",
   "metadata": {},
   "source": [
    "#### ЗАДАНИЕ 2.5 : Вывести список людей, отсортированный в обратном порядке по общей длительности контакта с другими людьми"
   ]
  },
  {
   "cell_type": "markdown",
   "metadata": {},
   "source": [
    "группируем по Member1_ID и суммируем длительность котнтактов , сортируем по длительности и выводим в обратном порядке"
   ]
  },
  {
   "cell_type": "code",
   "execution_count": 6,
   "metadata": {},
   "outputs": [],
   "source": [
    "\n",
    "dfx = df.groupby(['Member1_ID'])['duration'].sum().to_frame('sum_contact_duration').reset_index()\\\n",
    ".sort_values(['sum_contact_duration'],ascending=[False])"
   ]
  },
  {
   "cell_type": "markdown",
   "metadata": {},
   "source": [
    "соединяем две талблицы используя inner join и убираем не нужные столбцы"
   ]
  },
  {
   "cell_type": "code",
   "execution_count": 7,
   "metadata": {},
   "outputs": [
    {
     "name": "stdout",
     "output_type": "stream",
     "text": [
      "         ID              Name  Age sum_contact_duration\n",
      "0    220123     Марков Людвиг   20             09:32:09\n",
      "1    479697    Суворов Август   46             09:07:35\n",
      "2    374091     Назаров Игорь   85             08:25:45\n",
      "3    362731      Лукин Платон   61             07:37:42\n",
      "4    517124  Артемьев Назарий   37             07:12:32\n",
      "..      ...               ...  ...                  ...\n",
      "123   79173     Воробьёв Аким   80             01:36:32\n",
      "124   12657   Доронин Евгений   84             01:26:20\n",
      "125  266954      Архипов Алан   22             01:09:45\n",
      "126  150154     Ширяев Андрей   28             01:02:49\n",
      "127    1899  Григорьев Гордий   44             00:33:11\n",
      "\n",
      "[128 rows x 4 columns]\n"
     ]
    }
   ],
   "source": [
    "dfxx = pd.merge(dfx,df2,left_on='Member1_ID',right_on='ID',how='inner')\n",
    "dfxx = dfxx[['ID','Name','Age','sum_contact_duration']]\n",
    "print(dfxx)"
   ]
  }
 ],
 "metadata": {
  "kernelspec": {
   "display_name": "Python 3",
   "language": "python",
   "name": "python3"
  },
  "language_info": {
   "codemirror_mode": {
    "name": "ipython",
    "version": 3
   },
   "file_extension": ".py",
   "mimetype": "text/x-python",
   "name": "python",
   "nbconvert_exporter": "python",
   "pygments_lexer": "ipython3",
   "version": "3.7.6"
  }
 },
 "nbformat": 4,
 "nbformat_minor": 4
}
