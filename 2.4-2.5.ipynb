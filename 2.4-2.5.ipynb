{
 "cells": [
  {
   "cell_type": "code",
   "execution_count": 1,
   "metadata": {},
   "outputs": [],
   "source": [
    "import pandas as pd\n",
    "\n",
    "\n",
    "df = pd.read_json('json/small_data_contracts.json')"
   ]
  },
  {
   "cell_type": "markdown",
   "metadata": {},
   "source": [
    "#### Задание 2.4 "
   ]
  },
  {
   "cell_type": "markdown",
   "metadata": {},
   "source": [
    "меняем тип данных что-бы можно было проводить с ними вычисления"
   ]
  },
  {
   "cell_type": "code",
   "execution_count": 2,
   "metadata": {},
   "outputs": [],
   "source": [
    "df['From'] = pd.to_datetime(df['From'])\n",
    "df['To'] = pd.to_datetime(df['To'])\n"
   ]
  },
  {
   "cell_type": "markdown",
   "metadata": {},
   "source": [
    "cоздаём столбец что-бы просчитать разницу во времени, затем фильтруем по длительности от 5 минут\n"
   ]
  },
  {
   "cell_type": "code",
   "execution_count": 3,
   "metadata": {},
   "outputs": [],
   "source": [
    "df['duration'] = df['To'] - df['From']\n",
    "df1 = df[df['duration'] >= '00:05:00']"
   ]
  },
  {
   "cell_type": "markdown",
   "metadata": {},
   "source": [
    "группируем по member_id и считаем кол-во контактов,сортируем в убывающем порядке"
   ]
  },
  {
   "cell_type": "code",
   "execution_count": 4,
   "metadata": {},
   "outputs": [
    {
     "name": "stdout",
     "output_type": "stream",
     "text": [
      "    Member1_ID  count\n",
      "93      479697     15\n",
      "35      220123     14\n",
      "46      270838     14\n",
      "72      374091     14\n",
      "58      324457     12\n"
     ]
    }
   ],
   "source": [
    "df1 = df1.groupby(['Member1_ID']).size().to_frame('count').reset_index()\\\n",
    ".sort_values(['count'], ascending=[False])\n",
    "print(df1.head())"
   ]
  },
  {
   "cell_type": "markdown",
   "metadata": {},
   "source": [
    "#### ЗАДАНИЕ 2.5 : Вывести список людей, отсортированный в обратном порядке по общей длительности контакта с другими людьми"
   ]
  },
  {
   "cell_type": "markdown",
   "metadata": {},
   "source": [
    "группируем по Member1_ID и суммируем длительность котнтактов , сортируем по длительности и выводим в обратном порядке"
   ]
  },
  {
   "cell_type": "code",
   "execution_count": 5,
   "metadata": {},
   "outputs": [
    {
     "name": "stdout",
     "output_type": "stream",
     "text": [
      "    Member1_ID sum_duration\n",
      "35      220123     09:32:09\n",
      "93      479697     09:07:35\n",
      "72      374091     08:25:45\n",
      "68      362731     07:37:42\n",
      "99      517124     07:12:32\n"
     ]
    }
   ],
   "source": [
    "df2 = df.groupby(['Member1_ID'])['duration'].sum().to_frame('sum_duration').reset_index()\\\n",
    ".sort_values(['sum_duration'],ascending=[False])\n",
    "print(df2.head())\n"
   ]
  },
  {
   "cell_type": "code",
   "execution_count": null,
   "metadata": {},
   "outputs": [],
   "source": []
  }
 ],
 "metadata": {
  "kernelspec": {
   "display_name": "Python 3",
   "language": "python",
   "name": "python3"
  },
  "language_info": {
   "codemirror_mode": {
    "name": "ipython",
    "version": 3
   },
   "file_extension": ".py",
   "mimetype": "text/x-python",
   "name": "python",
   "nbconvert_exporter": "python",
   "pygments_lexer": "ipython3",
   "version": "3.7.6"
  }
 },
 "nbformat": 4,
 "nbformat_minor": 4
}
